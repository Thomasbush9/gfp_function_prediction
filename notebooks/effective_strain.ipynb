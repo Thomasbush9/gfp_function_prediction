{
 "cells": [
  {
   "cell_type": "code",
   "execution_count": 2,
   "metadata": {},
   "outputs": [
    {
     "name": "stdout",
     "output_type": "stream",
     "text": [
      "Requirement already satisfied: pandas in /usr/local/lib/python3.10/dist-packages (2.3.1)\n",
      "Requirement already satisfied: tqdm in /usr/local/lib/python3.10/dist-packages (4.67.1)\n",
      "Requirement already satisfied: scipy in /usr/local/lib/python3.10/dist-packages (1.15.3)\n",
      "Requirement already satisfied: matplotlib in /usr/local/lib/python3.10/dist-packages (3.10.5)\n",
      "Collecting torch\n",
      "  Downloading torch-2.7.1-cp310-cp310-manylinux_2_28_x86_64.whl (821.2 MB)\n",
      "\u001b[2K     \u001b[90m━━━━━━━━━━━━━━━━━━━━━━━━━━━━━━━━━━━━━━━\u001b[0m \u001b[32m821.2/821.2 MB\u001b[0m \u001b[31m7.0 MB/s\u001b[0m eta \u001b[36m0:00:00\u001b[0m00:01\u001b[0m00:01\u001b[0m\n",
      "\u001b[?25hRequirement already satisfied: numpy>=1.22.4 in /usr/local/lib/python3.10/dist-packages (from pandas) (2.2.6)\n",
      "Requirement already satisfied: pytz>=2020.1 in /usr/local/lib/python3.10/dist-packages (from pandas) (2025.2)\n",
      "Requirement already satisfied: tzdata>=2022.7 in /usr/local/lib/python3.10/dist-packages (from pandas) (2025.2)\n",
      "Requirement already satisfied: python-dateutil>=2.8.2 in /usr/local/lib/python3.10/dist-packages (from pandas) (2.9.0.post0)\n",
      "Requirement already satisfied: packaging>=20.0 in /usr/local/lib/python3.10/dist-packages (from matplotlib) (25.0)\n",
      "Requirement already satisfied: kiwisolver>=1.3.1 in /usr/local/lib/python3.10/dist-packages (from matplotlib) (1.4.8)\n",
      "Requirement already satisfied: fonttools>=4.22.0 in /usr/local/lib/python3.10/dist-packages (from matplotlib) (4.59.0)\n",
      "Requirement already satisfied: pillow>=8 in /usr/local/lib/python3.10/dist-packages (from matplotlib) (11.3.0)\n",
      "Requirement already satisfied: cycler>=0.10 in /usr/local/lib/python3.10/dist-packages (from matplotlib) (0.12.1)\n",
      "Requirement already satisfied: contourpy>=1.0.1 in /usr/local/lib/python3.10/dist-packages (from matplotlib) (1.3.2)\n",
      "Requirement already satisfied: pyparsing>=2.3.1 in /usr/lib/python3/dist-packages (from matplotlib) (2.4.7)\n",
      "Collecting fsspec\n",
      "  Downloading fsspec-2025.7.0-py3-none-any.whl (199 kB)\n",
      "\u001b[2K     \u001b[90m━━━━━━━━━━━━━━━━━━━━━━━━━━━━━━━━━━━━━━\u001b[0m \u001b[32m199.6/199.6 KB\u001b[0m \u001b[31m70.6 MB/s\u001b[0m eta \u001b[36m0:00:00\u001b[0m\n",
      "\u001b[?25hCollecting filelock\n",
      "  Downloading filelock-3.18.0-py3-none-any.whl (16 kB)\n",
      "Collecting nvidia-cudnn-cu12==9.5.1.17\n",
      "  Downloading nvidia_cudnn_cu12-9.5.1.17-py3-none-manylinux_2_28_x86_64.whl (571.0 MB)\n",
      "\u001b[2K     \u001b[90m━━━━━━━━━━━━━━━━━━━━━━━━━━━━━━━━━━━━━━━\u001b[0m \u001b[32m571.0/571.0 MB\u001b[0m \u001b[31m7.2 MB/s\u001b[0m eta \u001b[36m0:00:00\u001b[0m00:01\u001b[0m00:01\u001b[0m\n",
      "\u001b[?25hCollecting nvidia-cuda-nvrtc-cu12==12.6.77\n",
      "  Downloading nvidia_cuda_nvrtc_cu12-12.6.77-py3-none-manylinux2014_x86_64.whl (23.7 MB)\n",
      "\u001b[2K     \u001b[90m━━━━━━━━━━━━━━━━━━━━━━━━━━━━━━━━━━━━━━━━\u001b[0m \u001b[32m23.7/23.7 MB\u001b[0m \u001b[31m31.9 MB/s\u001b[0m eta \u001b[36m0:00:00\u001b[0m00:01\u001b[0m00:01\u001b[0m\n",
      "\u001b[?25hCollecting nvidia-cusparselt-cu12==0.6.3\n",
      "  Downloading nvidia_cusparselt_cu12-0.6.3-py3-none-manylinux2014_x86_64.whl (156.8 MB)\n",
      "\u001b[2K     \u001b[90m━━━━━━━━━━━━━━━━━━━━━━━━━━━━━━━━━━━━━━\u001b[0m \u001b[32m156.8/156.8 MB\u001b[0m \u001b[31m12.6 MB/s\u001b[0m eta \u001b[36m0:00:00\u001b[0m00:01\u001b[0m00:01\u001b[0m\n",
      "\u001b[?25hCollecting sympy>=1.13.3\n",
      "  Downloading sympy-1.14.0-py3-none-any.whl (6.3 MB)\n",
      "\u001b[2K     \u001b[90m━━━━━━━━━━━━━━━━━━━━━━━━━━━━━━━━━━━━━━━━\u001b[0m \u001b[32m6.3/6.3 MB\u001b[0m \u001b[31m24.7 MB/s\u001b[0m eta \u001b[36m0:00:00\u001b[0m00:01\u001b[0m00:01\u001b[0m\n",
      "\u001b[?25hCollecting networkx\n",
      "  Downloading networkx-3.4.2-py3-none-any.whl (1.7 MB)\n",
      "\u001b[2K     \u001b[90m━━━━━━━━━━━━━━━━━━━━━━━━━━━━━━━━━━━━━━━━\u001b[0m \u001b[32m1.7/1.7 MB\u001b[0m \u001b[31m25.6 MB/s\u001b[0m eta \u001b[36m0:00:00\u001b[0ma \u001b[36m0:00:01\u001b[0m\n",
      "\u001b[?25hCollecting nvidia-curand-cu12==10.3.7.77\n",
      "  Downloading nvidia_curand_cu12-10.3.7.77-py3-none-manylinux2014_x86_64.manylinux_2_17_x86_64.whl (56.3 MB)\n",
      "\u001b[2K     \u001b[90m━━━━━━━━━━━━━━━━━━━━━━━━━━━━━━━━━━━━━━━━\u001b[0m \u001b[32m56.3/56.3 MB\u001b[0m \u001b[31m23.0 MB/s\u001b[0m eta \u001b[36m0:00:00\u001b[0m00:01\u001b[0m00:01\u001b[0m\n",
      "\u001b[?25hCollecting nvidia-nvtx-cu12==12.6.77\n",
      "  Downloading nvidia_nvtx_cu12-12.6.77-py3-none-manylinux2014_x86_64.manylinux_2_17_x86_64.whl (89 kB)\n",
      "\u001b[2K     \u001b[90m━━━━━━━━━━━━━━━━━━━━━━━━━━━━━━━━━━━━━━━━\u001b[0m \u001b[32m89.3/89.3 KB\u001b[0m \u001b[31m20.8 MB/s\u001b[0m eta \u001b[36m0:00:00\u001b[0m\n",
      "\u001b[?25hCollecting nvidia-cufft-cu12==11.3.0.4\n",
      "  Downloading nvidia_cufft_cu12-11.3.0.4-py3-none-manylinux2014_x86_64.manylinux_2_17_x86_64.whl (200.2 MB)\n",
      "\u001b[2K     \u001b[90m━━━━━━━━━━━━━━━━━━━━━━━━━━━━━━━━━━━━━━\u001b[0m \u001b[32m200.2/200.2 MB\u001b[0m \u001b[31m16.1 MB/s\u001b[0m eta \u001b[36m0:00:00\u001b[0m00:01\u001b[0m00:01\u001b[0m\n",
      "\u001b[?25hCollecting nvidia-cublas-cu12==12.6.4.1\n",
      "  Downloading nvidia_cublas_cu12-12.6.4.1-py3-none-manylinux2014_x86_64.manylinux_2_17_x86_64.whl (393.1 MB)\n",
      "\u001b[2K     \u001b[90m━━━━━━━━━━━━━━━━━━━━━━━━━━━━━━━━━━━━━━\u001b[0m \u001b[32m393.1/393.1 MB\u001b[0m \u001b[31m10.3 MB/s\u001b[0m eta \u001b[36m0:00:00\u001b[0m00:01\u001b[0m00:01\u001b[0m\n",
      "\u001b[?25hCollecting nvidia-nccl-cu12==2.26.2\n",
      "  Downloading nvidia_nccl_cu12-2.26.2-py3-none-manylinux2014_x86_64.manylinux_2_17_x86_64.whl (201.3 MB)\n",
      "\u001b[2K     \u001b[90m━━━━━━━━━━━━━━━━━━━━━━━━━━━━━━━━━━━━━━\u001b[0m \u001b[32m201.3/201.3 MB\u001b[0m \u001b[31m13.7 MB/s\u001b[0m eta \u001b[36m0:00:00\u001b[0m00:01\u001b[0m00:01\u001b[0m\n",
      "\u001b[?25hCollecting nvidia-cusolver-cu12==11.7.1.2\n",
      "  Downloading nvidia_cusolver_cu12-11.7.1.2-py3-none-manylinux2014_x86_64.manylinux_2_17_x86_64.whl (158.2 MB)\n",
      "\u001b[2K     \u001b[90m━━━━━━━━━━━━━━━━━━━━━━━━━━━━━━━━━━━━━━\u001b[0m \u001b[32m158.2/158.2 MB\u001b[0m \u001b[31m13.3 MB/s\u001b[0m eta \u001b[36m0:00:00\u001b[0m00:01\u001b[0m00:01\u001b[0m\n",
      "\u001b[?25hCollecting triton==3.3.1\n",
      "  Downloading triton-3.3.1-cp310-cp310-manylinux_2_27_x86_64.manylinux_2_28_x86_64.whl (155.6 MB)\n",
      "\u001b[2K     \u001b[90m━━━━━━━━━━━━━━━━━━━━━━━━━━━━━━━━━━━━━━\u001b[0m \u001b[32m155.6/155.6 MB\u001b[0m \u001b[31m12.6 MB/s\u001b[0m eta \u001b[36m0:00:00\u001b[0m00:01\u001b[0m00:01\u001b[0m\n",
      "\u001b[?25hRequirement already satisfied: typing-extensions>=4.10.0 in /usr/local/lib/python3.10/dist-packages (from torch) (4.14.0)\n",
      "Collecting nvidia-cufile-cu12==1.11.1.6\n",
      "  Downloading nvidia_cufile_cu12-1.11.1.6-py3-none-manylinux2014_x86_64.manylinux_2_17_x86_64.whl (1.1 MB)\n",
      "\u001b[2K     \u001b[90m━━━━━━━━━━━━━━━━━━━━━━━━━━━━━━━━━━━━━━━━\u001b[0m \u001b[32m1.1/1.1 MB\u001b[0m \u001b[31m26.4 MB/s\u001b[0m eta \u001b[36m0:00:00\u001b[0m00:01\u001b[0m\n",
      "\u001b[?25hCollecting nvidia-cuda-runtime-cu12==12.6.77\n",
      "  Downloading nvidia_cuda_runtime_cu12-12.6.77-py3-none-manylinux2014_x86_64.manylinux_2_17_x86_64.whl (897 kB)\n",
      "\u001b[2K     \u001b[90m━━━━━━━━━━━━━━━━━━━━━━━━━━━━━━━━━━━━━━\u001b[0m \u001b[32m897.7/897.7 KB\u001b[0m \u001b[31m29.3 MB/s\u001b[0m eta \u001b[36m0:00:00\u001b[0m\n",
      "\u001b[?25hRequirement already satisfied: jinja2 in /usr/local/lib/python3.10/dist-packages (from torch) (3.1.6)\n",
      "Collecting nvidia-cusparse-cu12==12.5.4.2\n",
      "  Downloading nvidia_cusparse_cu12-12.5.4.2-py3-none-manylinux2014_x86_64.manylinux_2_17_x86_64.whl (216.6 MB)\n",
      "\u001b[2K     \u001b[90m━━━━━━━━━━━━━━━━━━━━━━━━━━━━━━━━━━━━━━\u001b[0m \u001b[32m216.6/216.6 MB\u001b[0m \u001b[31m13.1 MB/s\u001b[0m eta \u001b[36m0:00:00\u001b[0m00:01\u001b[0m00:01\u001b[0m\n",
      "\u001b[?25hCollecting nvidia-nvjitlink-cu12==12.6.85\n",
      "  Downloading nvidia_nvjitlink_cu12-12.6.85-py3-none-manylinux2010_x86_64.manylinux_2_12_x86_64.whl (19.7 MB)\n",
      "\u001b[2K     \u001b[90m━━━━━━━━━━━━━━━━━━━━━━━━━━━━━━━━━━━━━━━━\u001b[0m \u001b[32m19.7/19.7 MB\u001b[0m \u001b[31m32.0 MB/s\u001b[0m eta \u001b[36m0:00:00\u001b[0m00:01\u001b[0m00:01\u001b[0m\n",
      "\u001b[?25hCollecting nvidia-cuda-cupti-cu12==12.6.80\n",
      "  Downloading nvidia_cuda_cupti_cu12-12.6.80-py3-none-manylinux2014_x86_64.manylinux_2_17_x86_64.whl (8.9 MB)\n",
      "\u001b[2K     \u001b[90m━━━━━━━━━━━━━━━━━━━━━━━━━━━━━━━━━━━━━━━━\u001b[0m \u001b[32m8.9/8.9 MB\u001b[0m \u001b[31m37.4 MB/s\u001b[0m eta \u001b[36m0:00:00\u001b[0m00:01\u001b[0m00:01\u001b[0m\n",
      "\u001b[?25hRequirement already satisfied: setuptools>=40.8.0 in /usr/lib/python3/dist-packages (from triton==3.3.1->torch) (59.6.0)\n",
      "Requirement already satisfied: six>=1.5 in /usr/lib/python3/dist-packages (from python-dateutil>=2.8.2->pandas) (1.16.0)\n",
      "Collecting mpmath<1.4,>=1.1.0\n",
      "  Downloading mpmath-1.3.0-py3-none-any.whl (536 kB)\n",
      "\u001b[2K     \u001b[90m━━━━━━━━━━━━━━━━━━━━━━━━━━━━━━━━━━━━━━\u001b[0m \u001b[32m536.2/536.2 KB\u001b[0m \u001b[31m65.1 MB/s\u001b[0m eta \u001b[36m0:00:00\u001b[0m\n",
      "\u001b[?25hRequirement already satisfied: MarkupSafe>=2.0 in /usr/local/lib/python3.10/dist-packages (from jinja2->torch) (3.0.2)\n",
      "Installing collected packages: nvidia-cusparselt-cu12, mpmath, triton, sympy, nvidia-nvtx-cu12, nvidia-nvjitlink-cu12, nvidia-nccl-cu12, nvidia-curand-cu12, nvidia-cufile-cu12, nvidia-cuda-runtime-cu12, nvidia-cuda-nvrtc-cu12, nvidia-cuda-cupti-cu12, nvidia-cublas-cu12, networkx, fsspec, filelock, nvidia-cusparse-cu12, nvidia-cufft-cu12, nvidia-cudnn-cu12, nvidia-cusolver-cu12, torch\n",
      "Successfully installed filelock-3.18.0 fsspec-2025.7.0 mpmath-1.3.0 networkx-3.4.2 nvidia-cublas-cu12-12.6.4.1 nvidia-cuda-cupti-cu12-12.6.80 nvidia-cuda-nvrtc-cu12-12.6.77 nvidia-cuda-runtime-cu12-12.6.77 nvidia-cudnn-cu12-9.5.1.17 nvidia-cufft-cu12-11.3.0.4 nvidia-cufile-cu12-1.11.1.6 nvidia-curand-cu12-10.3.7.77 nvidia-cusolver-cu12-11.7.1.2 nvidia-cusparse-cu12-12.5.4.2 nvidia-cusparselt-cu12-0.6.3 nvidia-nccl-cu12-2.26.2 nvidia-nvjitlink-cu12-12.6.85 nvidia-nvtx-cu12-12.6.77 sympy-1.14.0 torch-2.7.1 triton-3.3.1\n",
      "\u001b[33mWARNING: Running pip as the 'root' user can result in broken permissions and conflicting behaviour with the system package manager. It is recommended to use a virtual environment instead: https://pip.pypa.io/warnings/venv\u001b[0m\u001b[33m\n",
      "\u001b[0m"
     ]
    }
   ],
   "source": [
    "!pip install pandas tqdm scipy matplotlib torch"
   ]
  },
  {
   "cell_type": "code",
   "execution_count": 5,
   "metadata": {},
   "outputs": [
    {
     "name": "stdout",
     "output_type": "stream",
     "text": [
      "Collecting omegaconf\n",
      "  Downloading omegaconf-2.3.0-py3-none-any.whl (79 kB)\n",
      "\u001b[2K     \u001b[90m━━━━━━━━━━━━━━━━━━━━━━━━━━━━━━━━━━━━━━━━\u001b[0m \u001b[32m79.5/79.5 KB\u001b[0m \u001b[31m2.4 MB/s\u001b[0m eta \u001b[36m0:00:00\u001b[0m\n",
      "\u001b[?25hCollecting antlr4-python3-runtime==4.9.*\n",
      "  Using cached antlr4_python3_runtime-4.9.3-py3-none-any.whl\n",
      "Requirement already satisfied: PyYAML>=5.1.0 in /usr/local/lib/python3.10/dist-packages (from omegaconf) (6.0.2)\n",
      "Installing collected packages: antlr4-python3-runtime, omegaconf\n",
      "Successfully installed antlr4-python3-runtime-4.9.3 omegaconf-2.3.0\n",
      "\u001b[33mWARNING: Running pip as the 'root' user can result in broken permissions and conflicting behaviour with the system package manager. It is recommended to use a virtual environment instead: https://pip.pypa.io/warnings/venv\u001b[0m\u001b[33m\n",
      "\u001b[0mNote: you may need to restart the kernel to use updated packages.\n"
     ]
    }
   ],
   "source": [
    "pip install omegaconf"
   ]
  },
  {
   "cell_type": "code",
   "execution_count": 2,
   "metadata": {},
   "outputs": [
    {
     "name": "stderr",
     "output_type": "stream",
     "text": [
      "UsageError: Line magic function `%autreload` not found.\n"
     ]
    }
   ],
   "source": [
    "%autreload 2"
   ]
  },
  {
   "cell_type": "code",
   "execution_count": 3,
   "metadata": {},
   "outputs": [
    {
     "name": "stdout",
     "output_type": "stream",
     "text": [
      "Top-level keys:\n",
      "dict_keys(['epoch', 'global_step', 'pytorch-lightning_version', 'state_dict', 'loops', 'callbacks', 'optimizer_states', 'lr_schedulers', 'hparams_name', 'hyper_parameters'])\n",
      "\n",
      "State dict keys (truncated):\n",
      "input_embedder.atom_encoder.embed_atom_features.weight\n",
      "input_embedder.atom_encoder.embed_atom_features.bias\n",
      "input_embedder.atom_encoder.embed_atompair_ref_pos.weight\n",
      "input_embedder.atom_encoder.embed_atompair_ref_dist.weight\n",
      "input_embedder.atom_encoder.embed_atompair_mask.weight\n",
      "input_embedder.atom_encoder.c_to_p_trans_k.1.weight\n",
      "input_embedder.atom_encoder.c_to_p_trans_q.1.weight\n",
      "input_embedder.atom_encoder.p_mlp.1.weight\n",
      "input_embedder.atom_encoder.p_mlp.3.weight\n",
      "input_embedder.atom_encoder.p_mlp.5.weight\n",
      "input_embedder.atom_enc_proj_z.0.weight\n",
      "input_embedder.atom_enc_proj_z.0.bias\n",
      "input_embedder.atom_enc_proj_z.1.weight\n",
      "input_embedder.atom_attention_encoder.atom_encoder.diffusion_transformer.layers.0.adaln.s_norm.weight\n",
      "input_embedder.atom_attention_encoder.atom_encoder.diffusion_transformer.layers.0.adaln.s_scale.weight\n",
      "input_embedder.atom_attention_encoder.atom_encoder.diffusion_transformer.layers.0.adaln.s_scale.bias\n",
      "input_embedder.atom_attention_encoder.atom_encoder.diffusion_transformer.layers.0.adaln.s_bias.weight\n",
      "input_embedder.atom_attention_encoder.atom_encoder.diffusion_transformer.layers.0.pair_bias_attn.proj_q.weight\n",
      "input_embedder.atom_attention_encoder.atom_encoder.diffusion_transformer.layers.0.pair_bias_attn.proj_q.bias\n",
      "input_embedder.atom_attention_encoder.atom_encoder.diffusion_transformer.layers.0.pair_bias_attn.proj_k.weight\n",
      "\n",
      "Hyperparameters:\n",
      "atom_s: 128\n",
      "atom_z: 16\n",
      "token_s: 384\n",
      "token_z: 128\n",
      "num_bins: 64\n",
      "training_args: {'recycling_steps': 3, 'sampling_steps': 50, 'sampling_steps_random': [20, 50, 200], 'diffusion_multiplicity': 32, 'diffusion_samples': 1, 'affinity_loss_weight': 0.003, 'confidence_loss_weight': 0.3, 'diffusion_loss_weight': 4.0, 'distogram_loss_weight': 0.03, 'bfactor_loss_weight': 0.001, 'adam_beta_1': 0.9, 'adam_beta_2': 0.95, 'adam_eps': 1e-08, 'lr_scheduler': 'af3', 'base_lr': 0.0, 'max_lr': 0.001, 'lr_warmup_no_steps': 1000, 'lr_start_decay_after_n_steps': 50000, 'lr_decay_every_n_steps': 50000, 'lr_decay_factor': 0.95, 'weight_decay': 0.003, 'weight_decay_exclude': True, 'symmetry_correction': True}\n",
      "validation_args: {'recycling_steps': 3, 'sampling_steps': 200, 'diffusion_samples': 5, 'run_confidence_sequentially': True, 'symmetry_correction': True}\n",
      "embedder_args: {'atom_encoder_depth': 3, 'atom_encoder_heads': 4, 'add_mol_type_feat': True, 'add_method_conditioning': True, 'add_modified_flag': True, 'add_cyclic_flag': True}\n",
      "msa_args: {'msa_s': 64, 'msa_blocks': 4, 'msa_dropout': 0.15, 'z_dropout': 0.25, 'miniformer_blocks': False, 'pairwise_head_width': 32, 'pairwise_num_heads': 4, 'use_paired_feature': True, 'activation_checkpointing': True, 'use_trifast': True}\n",
      "pairformer_args: {'num_blocks': 64, 'num_heads': 16, 'dropout': 0.25, 'post_layer_norm': False, 'activation_checkpointing': True, 'use_trifast': True}\n",
      "score_model_args: {'sigma_data': 16, 'dim_fourier': 256, 'atom_encoder_depth': 3, 'atom_encoder_heads': 4, 'token_transformer_depth': 24, 'token_transformer_heads': 16, 'atom_decoder_depth': 3, 'atom_decoder_heads': 4, 'conditioning_transition_layers': 2, 'transformer_post_ln': False, 'activation_checkpointing': True}\n",
      "diffusion_process_args: {'sigma_min': 0.0004, 'sigma_max': 160.0, 'sigma_data': 16.0, 'rho': 7, 'P_mean': -1.2, 'P_std': 1.5, 'gamma_0': 0.8, 'gamma_min': 1.0, 'noise_scale': 1.0, 'step_scale': 1.0, 'step_scale_random': [1.0, 1.1, 1.2, 1.3, 1.4, 1.5], 'mse_rotational_alignment': True, 'coordinate_augmentation': True, 'alignment_reverse_diff': True, 'synchronize_sigmas': False}\n",
      "diffusion_loss_args: {'add_smooth_lddt_loss': True, 'add_bond_loss': False, 'nucleotide_loss_weight': 5.0, 'ligand_loss_weight': 10.0, 'filter_by_plddt': 0.0}\n",
      "confidence_model_args: {'use_gaussian': False, 'num_dist_bins': 64, 'max_dist': 22, 'use_miniformer': False, 'no_trunk_feats': False, 'add_s_to_z_prod': True, 'add_s_input_to_s': True, 'use_s_diffusion': False, 'add_z_input_to_z': True, 'pairformer_args': {'num_blocks': 8, 'num_heads': 16, 'dropout': 0.25}, 'confidence_args': {'num_plddt_bins': 50, 'num_pde_bins': 64, 'num_pae_bins': 64, 'relative_confidence': 'none', 'use_separate_heads': True}}\n",
      "num_val_datasets: 4\n",
      "chain_sampling_args: None\n",
      "atom_feature_dim: 388\n",
      "template_args: {'template_dim': 64, 'template_blocks': 2, 'activation_checkpointing': True, 'use_trifast': True}\n",
      "use_miniformer: False\n",
      "use_miniformer_plus: False\n",
      "recycling_detach: True\n",
      "confidence_prediction: True\n",
      "affinity_prediction: False\n",
      "token_level_confidence: True\n",
      "confidence_imitate_trunk: False\n",
      "confidence_regression: False\n",
      "affinity_transformer: False\n",
      "affinity_transformer_atom: False\n",
      "affinity_pair_transformer: False\n",
      "affinity_baseline: False\n",
      "affinity_confidence_different: False\n",
      "affinity_confidence_different_multiple: False\n",
      "alpha_pae: 1\n",
      "relative_confidence_supervision_weight: 0.0\n",
      "structure_prediction_training: False\n",
      "skip_run_structure: False\n",
      "tau_affinity_score: -1.0\n",
      "alpha_affinity_absolute: 0.0\n",
      "alpha_affinity_difference: 0.0\n",
      "alpha_affinity_binary: 0.0\n",
      "alpha_affinity_score_binder_decoy: 0.0\n",
      "alpha_affinity_score_binder_binder: 0.0\n",
      "alpha_affinity_focal: 0.0\n",
      "atoms_per_window_queries: 32\n",
      "atoms_per_window_keys: 128\n",
      "compile_pairformer: False\n",
      "compile_structure: False\n",
      "compile_confidence: False\n",
      "compile_msa: False\n",
      "representative_lddt: False\n",
      "exclude_ions_from_lddt: True\n",
      "ema: True\n",
      "ema_decay: 0.999\n",
      "min_dist: 2.0\n",
      "max_dist: 22.0\n",
      "maximum_bond_distance: 0\n",
      "predict_args: None\n",
      "dynamic_args: {}\n",
      "compute_tistogram: False\n",
      "num_tistogram_axis: 1\n",
      "symmetry_correction_trunk: False\n",
      "fix_sym_check: True\n",
      "cyclic_pos_enc: True\n",
      "trunk_resolved_loss: False\n",
      "ignore_ckpt_shape_mismatch: False\n",
      "num_distograms: 1\n",
      "aggregate_distogram: True\n",
      "bond_type_feature: True\n",
      "use_no_atom_char: False\n",
      "use_atom_backbone_feat: False\n",
      "use_residue_feats_atoms: False\n",
      "conditioning_cutoff_min: 4.0\n",
      "conditioning_cutoff_max: 20.0\n",
      "guidance_args: None\n",
      "use_templates: True\n",
      "compile_templates: False\n",
      "predict_bfactor: True\n",
      "log_loss_every_steps: 50\n",
      "checkpoint_diffusion_conditioning: True\n",
      "use_templates_v2: True\n"
     ]
    }
   ],
   "source": [
    "import torch\n",
    "\n",
    "ckpt_path = \"/root/.boltz/boltz2_conf.ckpt\"\n",
    "\n",
    "checkpoint = torch.load(ckpt_path, map_location=\"cpu\", weights_only=False)\n",
    "\n",
    "print(\"Top-level keys:\")\n",
    "print(checkpoint.keys())\n",
    "\n",
    "# Explore model state dict keys\n",
    "print(\"\\nState dict keys (truncated):\")\n",
    "for k in list(checkpoint['state_dict'].keys())[:20]:  # Show first 20 keys\n",
    "    print(k)\n",
    "\n",
    "# If hyperparameters were saved\n",
    "if 'hyper_parameters' in checkpoint:\n",
    "    print(\"\\nHyperparameters:\")\n",
    "    for k, v in checkpoint['hyper_parameters'].items():\n",
    "        print(f\"{k}: {v}\")\n"
   ]
  },
  {
   "cell_type": "code",
   "execution_count": 4,
   "metadata": {},
   "outputs": [],
   "source": [
    "import sys\n",
    "sys.path.append(\"/workspace/gfp_function_prediction\")\n",
    "sys.path.append(\"/workspace/gfp_function_prediction/boltz\")"
   ]
  },
  {
   "cell_type": "code",
   "execution_count": 6,
   "metadata": {},
   "outputs": [
    {
     "name": "stdout",
     "output_type": "stream",
     "text": [
      "✅ Successfully imported Boltz2!\n"
     ]
    }
   ],
   "source": [
    "import sys\n",
    "import os\n",
    "\n",
    "# Add the parent directory to sys.path to import boltz\n",
    "sys.path.append(os.path.join(os.getcwd(), '..'))\n",
    "\n",
    "try:\n",
    "    from src.boltz.model.models.boltz2 import Boltz2\n",
    "    print(\"✅ Successfully imported Boltz2!\")\n",
    "except ImportError as e:\n",
    "    print(f\"❌ Failed to import Boltz2: {e}\")\n",
    "    print(f\"Current sys.path: {sys.path}\")"
   ]
  },
  {
   "cell_type": "code",
   "execution_count": 1,
   "metadata": {},
   "outputs": [],
   "source": [
    "from pathlib import Path\n",
    "from dataclasses import asdict, dataclass"
   ]
  },
  {
   "cell_type": "code",
   "execution_count": 9,
   "metadata": {},
   "outputs": [],
   "source": [
    "from boltz.main import BoltzSteeringParams, Boltz2DiffusionParams, PairformerArgsV2, MSAModuleArgs\n",
    "from boltz.model.models.boltz2 import Boltz2"
   ]
  },
  {
   "cell_type": "code",
   "execution_count": 17,
   "metadata": {},
   "outputs": [],
   "source": [
    "from collections import defaultdict\n",
    "\n",
    "class PairformerHookCollector:\n",
    "    def __init__(self):\n",
    "        self.hidden_reps = defaultdict(list)\n",
    "        self.hooks = []\n",
    "\n",
    "    def register_hooks(self, model):\n",
    "        pairformer = (\n",
    "            model.pairformer_module._orig_mod\n",
    "            if getattr(model, \"is_pairformer_compiled\", False)\n",
    "            else model.pairformer_module\n",
    "        )\n",
    "\n",
    "        def hook_fn(module, inputs, outputs):\n",
    "            try:\n",
    "                s, z = outputs\n",
    "                self.hidden_reps[\"s\"].append(s.detach().cpu())\n",
    "                self.hidden_reps[\"z\"].append(z.detach().cpu())\n",
    "                print(f\"[HOOK FIRED] s: {s.shape}, z: {z.shape}\")\n",
    "            except Exception as e:\n",
    "                print(f\"[HOOK ERROR] {e}\")\n",
    "\n",
    "        self.hooks.append(pairformer.register_forward_hook(hook_fn))\n",
    "\n",
    "    def get(self):\n",
    "        return dict(self.hidden_reps)\n",
    "\n",
    "    def clear(self):\n",
    "        self.hidden_reps.clear()\n",
    "\n",
    "    def remove(self):\n",
    "        for h in self.hooks:\n",
    "            h.remove()\n"
   ]
  },
  {
   "cell_type": "markdown",
   "metadata": {},
   "source": [
    "## Analysis Effective Strain "
   ]
  },
  {
   "cell_type": "code",
   "execution_count": 2,
   "metadata": {},
   "outputs": [],
   "source": [
    "import numpy as np\n",
    "import pandas as pd\n",
    "import os \n",
    "from pathlib import Path\n",
    "import matplotlib.pyplot as plt\n",
    "from tqdm import tqdm"
   ]
  },
  {
   "cell_type": "code",
   "execution_count": 3,
   "metadata": {},
   "outputs": [],
   "source": [
    "# es data:\n",
    "es_path = Path('/workspace/gfp_function_prediction/data/0801_17_es')\n",
    "gfp_dataset_path = Path('/workspace/gfp_function_prediction/data/raw_data/amino_acid_genotypes_to_brightness.tsv')\n",
    "index_path = Path('/workspace/gfp_function_prediction/data/20250731_203124_subsample/balanced_subset.txt')"
   ]
  },
  {
   "cell_type": "code",
   "execution_count": 7,
   "metadata": {},
   "outputs": [
    {
     "data": {
      "text/html": [
       "<div>\n",
       "<style scoped>\n",
       "    .dataframe tbody tr th:only-of-type {\n",
       "        vertical-align: middle;\n",
       "    }\n",
       "\n",
       "    .dataframe tbody tr th {\n",
       "        vertical-align: top;\n",
       "    }\n",
       "\n",
       "    .dataframe thead th {\n",
       "        text-align: right;\n",
       "    }\n",
       "</style>\n",
       "<table border=\"1\" class=\"dataframe\">\n",
       "  <thead>\n",
       "    <tr style=\"text-align: right;\">\n",
       "      <th></th>\n",
       "      <th>aaMutations</th>\n",
       "      <th>uniqueBarcodes</th>\n",
       "      <th>medianBrightness</th>\n",
       "      <th>std</th>\n",
       "    </tr>\n",
       "  </thead>\n",
       "  <tbody>\n",
       "    <tr>\n",
       "      <th>0</th>\n",
       "      <td>NaN</td>\n",
       "      <td>3645</td>\n",
       "      <td>3.719212</td>\n",
       "      <td>0.106992</td>\n",
       "    </tr>\n",
       "    <tr>\n",
       "      <th>1</th>\n",
       "      <td>SA108D</td>\n",
       "      <td>1</td>\n",
       "      <td>1.301030</td>\n",
       "      <td>NaN</td>\n",
       "    </tr>\n",
       "    <tr>\n",
       "      <th>2</th>\n",
       "      <td>SA108D:SN144D:SI186V:SM231T:SL234P</td>\n",
       "      <td>1</td>\n",
       "      <td>1.301031</td>\n",
       "      <td>NaN</td>\n",
       "    </tr>\n",
       "    <tr>\n",
       "      <th>3</th>\n",
       "      <td>SA108D:SY141N:SH146L:SE220G</td>\n",
       "      <td>1</td>\n",
       "      <td>1.301189</td>\n",
       "      <td>NaN</td>\n",
       "    </tr>\n",
       "    <tr>\n",
       "      <th>4</th>\n",
       "      <td>SA108G</td>\n",
       "      <td>2</td>\n",
       "      <td>3.708478</td>\n",
       "      <td>0.020613</td>\n",
       "    </tr>\n",
       "    <tr>\n",
       "      <th>5</th>\n",
       "      <td>SA108G:SK138M:SR166C:SL234P</td>\n",
       "      <td>1</td>\n",
       "      <td>3.582764</td>\n",
       "      <td>NaN</td>\n",
       "    </tr>\n",
       "    <tr>\n",
       "      <th>6</th>\n",
       "      <td>SA108G:SK154E:SF163S:SL192Q:SL193P</td>\n",
       "      <td>1</td>\n",
       "      <td>1.499573</td>\n",
       "      <td>NaN</td>\n",
       "    </tr>\n",
       "    <tr>\n",
       "      <th>7</th>\n",
       "      <td>SA108G:SK156R</td>\n",
       "      <td>1</td>\n",
       "      <td>3.659013</td>\n",
       "      <td>NaN</td>\n",
       "    </tr>\n",
       "    <tr>\n",
       "      <th>8</th>\n",
       "      <td>SA108G:SK156R:SI159V:SI186V:ST223S</td>\n",
       "      <td>1</td>\n",
       "      <td>3.573855</td>\n",
       "      <td>NaN</td>\n",
       "    </tr>\n",
       "    <tr>\n",
       "      <th>9</th>\n",
       "      <td>SA108P:SK111R:SG172S:SL176P:SS200G</td>\n",
       "      <td>1</td>\n",
       "      <td>1.301031</td>\n",
       "      <td>NaN</td>\n",
       "    </tr>\n",
       "  </tbody>\n",
       "</table>\n",
       "</div>"
      ],
      "text/plain": [
       "                          aaMutations  uniqueBarcodes  medianBrightness  \\\n",
       "0                                 NaN            3645          3.719212   \n",
       "1                              SA108D               1          1.301030   \n",
       "2  SA108D:SN144D:SI186V:SM231T:SL234P               1          1.301031   \n",
       "3         SA108D:SY141N:SH146L:SE220G               1          1.301189   \n",
       "4                              SA108G               2          3.708478   \n",
       "5         SA108G:SK138M:SR166C:SL234P               1          3.582764   \n",
       "6  SA108G:SK154E:SF163S:SL192Q:SL193P               1          1.499573   \n",
       "7                       SA108G:SK156R               1          3.659013   \n",
       "8  SA108G:SK156R:SI159V:SI186V:ST223S               1          3.573855   \n",
       "9  SA108P:SK111R:SG172S:SL176P:SS200G               1          1.301031   \n",
       "\n",
       "        std  \n",
       "0  0.106992  \n",
       "1       NaN  \n",
       "2       NaN  \n",
       "3       NaN  \n",
       "4  0.020613  \n",
       "5       NaN  \n",
       "6       NaN  \n",
       "7       NaN  \n",
       "8       NaN  \n",
       "9       NaN  "
      ]
     },
     "execution_count": 7,
     "metadata": {},
     "output_type": "execute_result"
    }
   ],
   "source": [
    "gfp_dataset = pd.read_csv(gfp_dataset_path, sep='\\t')\n",
    "gfp_dataset.head(10)"
   ]
  },
  {
   "cell_type": "code",
   "execution_count": 8,
   "metadata": {},
   "outputs": [
    {
     "data": {
      "text/html": [
       "<div>\n",
       "<style scoped>\n",
       "    .dataframe tbody tr th:only-of-type {\n",
       "        vertical-align: middle;\n",
       "    }\n",
       "\n",
       "    .dataframe tbody tr th {\n",
       "        vertical-align: top;\n",
       "    }\n",
       "\n",
       "    .dataframe thead th {\n",
       "        text-align: right;\n",
       "    }\n",
       "</style>\n",
       "<table border=\"1\" class=\"dataframe\">\n",
       "  <thead>\n",
       "    <tr style=\"text-align: right;\">\n",
       "      <th></th>\n",
       "      <th>idx</th>\n",
       "      <th>n_mut</th>\n",
       "    </tr>\n",
       "  </thead>\n",
       "  <tbody>\n",
       "    <tr>\n",
       "      <th>0</th>\n",
       "      <td>15081</td>\n",
       "      <td>2</td>\n",
       "    </tr>\n",
       "    <tr>\n",
       "      <th>1</th>\n",
       "      <td>39424</td>\n",
       "      <td>2</td>\n",
       "    </tr>\n",
       "    <tr>\n",
       "      <th>2</th>\n",
       "      <td>18721</td>\n",
       "      <td>2</td>\n",
       "    </tr>\n",
       "    <tr>\n",
       "      <th>3</th>\n",
       "      <td>38687</td>\n",
       "      <td>2</td>\n",
       "    </tr>\n",
       "    <tr>\n",
       "      <th>4</th>\n",
       "      <td>10563</td>\n",
       "      <td>2</td>\n",
       "    </tr>\n",
       "  </tbody>\n",
       "</table>\n",
       "</div>"
      ],
      "text/plain": [
       "     idx  n_mut\n",
       "0  15081      2\n",
       "1  39424      2\n",
       "2  18721      2\n",
       "3  38687      2\n",
       "4  10563      2"
      ]
     },
     "execution_count": 8,
     "metadata": {},
     "output_type": "execute_result"
    }
   ],
   "source": [
    "filter_df = pd.read_csv(index_path, sep=\"\\t\")\n",
    "filter_df.head()"
   ]
  },
  {
   "cell_type": "code",
   "execution_count": 24,
   "metadata": {},
   "outputs": [
    {
     "data": {
      "text/plain": [
       "np.int64(13550)"
      ]
     },
     "execution_count": 24,
     "metadata": {},
     "output_type": "execute_result"
    }
   ],
   "source": [
    "filter_df['idx'].values[884]"
   ]
  },
  {
   "cell_type": "code",
   "execution_count": 9,
   "metadata": {},
   "outputs": [],
   "source": [
    "indices_to_keep = filter_df['idx'].values\n",
    "\n",
    "# Filter df_main by its index\n",
    "filtered_df = gfp_dataset.loc[gfp_dataset.index.isin(indices_to_keep)]"
   ]
  },
  {
   "cell_type": "code",
   "execution_count": 26,
   "metadata": {},
   "outputs": [
    {
     "data": {
      "text/html": [
       "<div>\n",
       "<style scoped>\n",
       "    .dataframe tbody tr th:only-of-type {\n",
       "        vertical-align: middle;\n",
       "    }\n",
       "\n",
       "    .dataframe tbody tr th {\n",
       "        vertical-align: top;\n",
       "    }\n",
       "\n",
       "    .dataframe thead th {\n",
       "        text-align: right;\n",
       "    }\n",
       "</style>\n",
       "<table border=\"1\" class=\"dataframe\">\n",
       "  <thead>\n",
       "    <tr style=\"text-align: right;\">\n",
       "      <th></th>\n",
       "      <th>aaMutations</th>\n",
       "      <th>uniqueBarcodes</th>\n",
       "      <th>medianBrightness</th>\n",
       "      <th>std</th>\n",
       "    </tr>\n",
       "  </thead>\n",
       "  <tbody>\n",
       "    <tr>\n",
       "      <th>6</th>\n",
       "      <td>SA108G:SK154E:SF163S:SL192Q:SL193P</td>\n",
       "      <td>1</td>\n",
       "      <td>1.499573</td>\n",
       "      <td>NaN</td>\n",
       "    </tr>\n",
       "    <tr>\n",
       "      <th>12</th>\n",
       "      <td>SA108S:SE130G</td>\n",
       "      <td>1</td>\n",
       "      <td>3.767735</td>\n",
       "      <td>NaN</td>\n",
       "    </tr>\n",
       "    <tr>\n",
       "      <th>101</th>\n",
       "      <td>SA35G:ST57P:SC68R:SI134T:SN168S</td>\n",
       "      <td>1</td>\n",
       "      <td>1.593824</td>\n",
       "      <td>NaN</td>\n",
       "    </tr>\n",
       "    <tr>\n",
       "      <th>146</th>\n",
       "      <td>SA35T:SN157S</td>\n",
       "      <td>1</td>\n",
       "      <td>3.558076</td>\n",
       "      <td>NaN</td>\n",
       "    </tr>\n",
       "    <tr>\n",
       "      <th>160</th>\n",
       "      <td>SA35T:SV53M:SP73S:SM76L:SN133D:SL219P</td>\n",
       "      <td>1</td>\n",
       "      <td>1.302215</td>\n",
       "      <td>NaN</td>\n",
       "    </tr>\n",
       "  </tbody>\n",
       "</table>\n",
       "</div>"
      ],
      "text/plain": [
       "                               aaMutations  uniqueBarcodes  medianBrightness  \\\n",
       "6       SA108G:SK154E:SF163S:SL192Q:SL193P               1          1.499573   \n",
       "12                           SA108S:SE130G               1          3.767735   \n",
       "101        SA35G:ST57P:SC68R:SI134T:SN168S               1          1.593824   \n",
       "146                           SA35T:SN157S               1          3.558076   \n",
       "160  SA35T:SV53M:SP73S:SM76L:SN133D:SL219P               1          1.302215   \n",
       "\n",
       "     std  \n",
       "6    NaN  \n",
       "12   NaN  \n",
       "101  NaN  \n",
       "146  NaN  \n",
       "160  NaN  "
      ]
     },
     "execution_count": 26,
     "metadata": {},
     "output_type": "execute_result"
    }
   ],
   "source": [
    "filtered_df.head()"
   ]
  },
  {
   "cell_type": "code",
   "execution_count": 27,
   "metadata": {},
   "outputs": [
    {
     "data": {
      "text/plain": [
       "np.float64(1.85932208878)"
      ]
     },
     "execution_count": 27,
     "metadata": {},
     "output_type": "execute_result"
    }
   ],
   "source": [
    "filtered_df['medianBrightness'].values[884]"
   ]
  },
  {
   "cell_type": "code",
   "execution_count": 11,
   "metadata": {},
   "outputs": [],
   "source": [
    "# Step 1: Load idx list\n",
    "idx_list = filter_df['idx'].astype(str).tolist()\n",
    "\n",
    "# Step 2: Set path to folder of CSV files\n",
    "csv_folder = es_path\n",
    "\n",
    "# Step 3: Collect filtered data\n",
    "filtered_data = []\n",
    "\n",
    "for idx in idx_list:\n",
    "    filename = f\"seq_{idx.zfill(5)}.csv\"  # pad with zeros to match format\n",
    "    file_path = csv_folder / filename\n",
    "\n",
    "    if file_path.exists():\n",
    "        df = pd.read_csv(file_path, usecols=[\"residue_index\", \"protA_resname\", \"protB_resname\", \"strain\"])\n",
    "        # Optionally add file index\n",
    "        df[\"file_idx\"] = int(idx)\n",
    "        filtered_data.append(df[[\"residue_index\", \"strain\"]].values)\n",
    "    else:\n",
    "        print(f\"File not found: {file_path}\")\n",
    "\n",
    "# Step 4: Stack into array (n, L, 2)\n",
    "final_array = np.stack(filtered_data)  # shape (n, L, 2)\n",
    "\n",
    "# Optionally create a DataFrame version\n",
    "final_df = pd.concat([\n",
    "    pd.DataFrame(arr, columns=[\"residue_index\", \"strain\"]).assign(file_idx=idx_list[i])\n",
    "    for i, arr in enumerate(filtered_data)\n",
    "])"
   ]
  },
  {
   "cell_type": "code",
   "execution_count": 13,
   "metadata": {},
   "outputs": [],
   "source": [
    "import scipy"
   ]
  },
  {
   "cell_type": "code",
   "execution_count": 14,
   "metadata": {},
   "outputs": [
    {
     "name": "stderr",
     "output_type": "stream",
     "text": [
      "100%|██████████| 238/238 [00:00<00:00, 551.74it/s]\n"
     ]
    }
   ],
   "source": [
    "correlation_pos = []\n",
    "for i in tqdm(range(final_array.shape[1])):\n",
    "    correlation_pos.append(scipy.stats.pearsonr(final_array[:, i, 1], filtered_df['medianBrightness'].values))\n"
   ]
  },
  {
   "cell_type": "code",
   "execution_count": 15,
   "metadata": {},
   "outputs": [
    {
     "data": {
      "image/png": "[encoded data removed]",
      "text/plain": [
       "<Figure size 640x480 with 1 Axes>"
      ]
     },
     "metadata": {},
     "output_type": "display_data"
    }
   ],
   "source": [
    "from turtle import color\n",
    "\n",
    "\n",
    "plt.figure()\n",
    "plt.scatter(y=filtered_df['medianBrightness'].values, x=np.arange(filtered_df['medianBrightness'].values.shape[0]), color='g')\n",
    "plt.scatter(y=final_array[:, 57, 1], x=np.arange(final_array[:, 57, 1].shape[0]), color='b')\n",
    "plt.yscale('log')\n",
    "plt.show()"
   ]
  },
  {
   "cell_type": "code",
   "execution_count": 59,
   "metadata": {},
   "outputs": [],
   "source": [
    "import scipy"
   ]
  },
  {
   "cell_type": "code",
   "execution_count": 62,
   "metadata": {},
   "outputs": [
    {
     "data": {
      "text/plain": [
       "PearsonRResult(statistic=np.float64(0.03381930920638052), pvalue=np.float64(0.28484485015629946))"
      ]
     },
     "execution_count": 62,
     "metadata": {},
     "output_type": "execute_result"
    }
   ],
   "source": [
    "scipy.stats.pearsonr(final_array[:, 57, 1], filtered_df['medianBrightness'].values)"
   ]
  },
  {
   "cell_type": "code",
   "execution_count": 16,
   "metadata": {},
   "outputs": [],
   "source": [
    "corrs = np.stack(correlation_pos, 0)"
   ]
  },
  {
   "cell_type": "code",
   "execution_count": null,
   "metadata": {},
   "outputs": [],
   "source": []
  },
  {
   "cell_type": "code",
   "execution_count": 17,
   "metadata": {},
   "outputs": [
    {
     "data": {
      "text/plain": [
       "array([74, 37])"
      ]
     },
     "execution_count": 17,
     "metadata": {},
     "output_type": "execute_result"
    }
   ],
   "source": [
    "np.argmax(corrs, 0)"
   ]
  },
  {
   "cell_type": "code",
   "execution_count": 21,
   "metadata": {},
   "outputs": [
    {
     "data": {
      "text/plain": [
       "np.int64(884)"
      ]
     },
     "execution_count": 21,
     "metadata": {},
     "output_type": "execute_result"
    }
   ],
   "source": [
    "final_array[:, 57, 1].argmax()"
   ]
  },
  {
   "cell_type": "code",
   "execution_count": null,
   "metadata": {},
   "outputs": [],
   "source": []
  },
  {
   "cell_type": "code",
   "execution_count": 18,
   "metadata": {},
   "outputs": [
    {
     "data": {
      "text/plain": [
       "array([0.06206207, 0.04953265])"
      ]
     },
     "execution_count": 18,
     "metadata": {},
     "output_type": "execute_result"
    }
   ],
   "source": [
    "corrs[74]"
   ]
  },
  {
   "cell_type": "code",
   "execution_count": null,
   "metadata": {},
   "outputs": [],
   "source": []
  }
 ],
 "metadata": {
  "kernelspec": {
   "display_name": "Python boltz",
   "language": "python",
   "name": "myenv"
  },
  "language_info": {
   "codemirror_mode": {
    "name": "ipython",
    "version": 3
   },
   "file_extension": ".py",
   "mimetype": "text/x-python",
   "name": "python",
   "nbconvert_exporter": "python",
   "pygments_lexer": "ipython3",
   "version": "3.10.18"
  }
 },
 "nbformat": 4,
 "nbformat_minor": 2
}
