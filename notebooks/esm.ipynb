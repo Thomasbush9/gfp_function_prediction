{
 "cells": [
  {
   "cell_type": "code",
   "execution_count": null,
   "id": "5a09f071",
   "metadata": {},
   "outputs": [
    {
     "name": "stderr",
     "output_type": "stream",
     "text": [
      "/n/home06/tbush/envs/esm/lib/python3.12/site-packages/esm/pretrained.py:86: FutureWarning: You are using `torch.load` with `weights_only=False` (the current default value), which uses the default pickle module implicitly. It is possible to construct malicious pickle data which will execute arbitrary code during unpickling (See https://github.com/pytorch/pytorch/blob/main/SECURITY.md#untrusted-models for more details). In a future release, the default value for `weights_only` will be flipped to `True`. This limits the functions that could be executed during unpickling. Arbitrary objects will no longer be allowed to be loaded via this mode unless they are explicitly allowlisted by the user via `torch.serialization.add_safe_globals`. We recommend you start setting `weights_only=True` for any use case where you don't have full control of the loaded file. Please open an issue on GitHub for any issues related to this experimental feature.\n",
      "  state_dict = torch.load(\n"
     ]
    }
   ],
   "source": [
    "import os\n",
    "os.environ[\"HF_HUB_OFFLINE\"] = \"1\"\n",
    "os.environ[\"TRANSFORMERS_OFFLINE\"] = \"1\"\n",
    "os.environ[\"HF_HUB_DISABLE_PROGRESS_BARS\"] = \"1\"\n",
    "\n",
    "from esm.models.esmc import ESMC\n",
    "from esm.sdk.api import ESMProtein, LogitsConfig\n",
    "\n",
    "client = ESMC.from_pretrained(\"esmc_600m\").to(\"cuda\")\n",
    "protein = ESMProtein(sequence=\"AAAAA\")"
   ]
  },
  {
   "cell_type": "code",
   "execution_count": null,
   "id": "9e8483f8",
   "metadata": {},
   "outputs": [],
   "source": [
    "import sys, os\n",
    "sys.path.append(os.path.abspath(\"..\"))"
   ]
  },
  {
   "cell_type": "code",
   "execution_count": null,
   "id": "ee876e1e",
   "metadata": {},
   "outputs": [],
   "source": [
    "import pandas as pd\n",
    "import numpy as np\n",
    "from pathlib import Path\n",
    "import re\n",
    "import matplotlib.pyplot as plt\n",
    "import torch "
   ]
  },
  {
   "cell_type": "code",
   "execution_count": null,
   "id": "b2f068ac",
   "metadata": {},
   "outputs": [],
   "source": [
    "# we can create the dataset:\n",
    "data_dir = Path(\"/n/home06/tbush/gfp_function_prediction/data/raw_data\")\n",
    "sequence_path =  data_dir / \"P42212.fasta.txt\"\n",
    "original_dataset_path = data_dir / \"amino_acid_genotypes_to_brightness.tsv\"\n",
    "# load the dataset\n",
    "gfp_dataset_original = pd.read_csv(original_dataset_path, sep=\"\\t\")"
   ]
  },
  {
   "cell_type": "code",
   "execution_count": null,
   "id": "a5990cc3",
   "metadata": {},
   "outputs": [],
   "source": [
    "# load utilities functions \n",
    "from utils.utils import parse_mutation, mutate_seq, get_numb_mut, load_seq_\n",
    "def mutate_sequence(mutation_string, seq, mapping_db_seq):\n",
    "    if pd.isna(mutation_string):\n",
    "        return None\n",
    "    try:\n",
    "        mutations = mutation_string.split(\":\")\n",
    "        for m in mutations:\n",
    "            src, idx, dest = parse_mutation(m)\n",
    "            if idx in mapping_db_seq:\n",
    "                mapped_idx = mapping_db_seq[idx]\n",
    "                mutated_seq = seq[:mapped_idx] + dest + seq[mapped_idx + 1 :]\n",
    "                return mutated_seq\n",
    "    except Exception:\n",
    "        return None\n",
    "    return None\n",
    "\n",
    "    # Calculate the original distribution of num_mut\n",
    "    def get_numb_mut(mut: str) -> int:\n",
    "        if type(mut) == str:\n",
    "            n = len(mut.split(\":\"))\n",
    "        else:\n",
    "            return 0\n",
    "        return n"
   ]
  },
  {
   "cell_type": "code",
   "execution_count": null,
   "id": "58489d36",
   "metadata": {},
   "outputs": [],
   "source": [
    "seq, mapping = load_seq_(sequence_path)\n",
    "gfp_dataset_original[\"seq_mutated\"] = gfp_dataset_original[\"aaMutations\"].apply(\n",
    "    lambda muts: mutate_sequence(muts, seq=seq, mapping_db_seq=mapping)\n",
    ")\n",
    "gfp_dataset_original[\"num_mut\"] = gfp_dataset_original['aaMutations'].apply(lambda mut: get_numb_mut(mut))"
   ]
  },
  {
   "cell_type": "code",
   "execution_count": null,
   "id": "3114dac7",
   "metadata": {},
   "outputs": [],
   "source": [
    "# now we load the model + utilities for calculuting the LLR metrics\n",
    "from esm.sdk.api import ESMProtein, LogitsConfig\n",
    "import ipywidgets as widgets\n",
    "from IPython.display import display\n",
    "import torch\n",
    "import torch.nn.functional as F\n",
    "from tqdm import tqdm"
   ]
  },
  {
   "cell_type": "code",
   "execution_count": null,
   "id": "5f74cf01",
   "metadata": {},
   "outputs": [],
   "source": [
    "amino_acids = list(\"ACDEFGHIKLMNPQRSTVWY\")\n",
    "client = ESMC.from_pretrained(\"esmc_600m\").to(\"cuda\")\n",
    "def token_id(x: str, client) -> int:\n",
    "    enc = client.encode(ESMProtein(x))\n",
    "    return int(enc.sequence[1])  # BOS at 0, your token at 1, EOS at 2\n",
    "aa_ids = {a: token_id(a, client=client) for a in amino_acids}\n",
    "mask_id = token_id(\"<mask>\", client=client)"
   ]
  },
  {
   "cell_type": "code",
   "execution_count": null,
   "id": "8cfdf8c1",
   "metadata": {},
   "outputs": [],
   "source": [
    "def generate_heatmap(protein_sequence:str, start_pos:int=1, end_pos=None):\n",
    "\n",
    "  # load model and tokenizer\n",
    "  forge_client = ESMC.from_pretrained(\"esmc_600m\").to(\"cuda\")\n",
    "  aa_ids = {'A': 5,\n",
    "            'C': 23,\n",
    "            'D': 13,\n",
    "            'E': 9,\n",
    "            'F': 18,\n",
    "            'G': 6,\n",
    "            'H': 21,\n",
    "            'I': 12,\n",
    "            'K': 15,\n",
    "            'L': 4,\n",
    "            'M': 20,\n",
    "            'N': 17,\n",
    "            'P': 14,\n",
    "            'Q': 16,\n",
    "            'R': 10,\n",
    "            'S': 8,\n",
    "            'T': 11,\n",
    "            'V': 7,\n",
    "            'W': 22,\n",
    "            'Y': 19}\n",
    "\n",
    "  # tokenize the input sequence\n",
    "  protein = ESMProtein(protein_sequence)\n",
    "  input_ids = forge_client.encode(protein)\n",
    "  sequence_length = len(protein_sequence)\n",
    "\n",
    "  if end_pos is None:\n",
    "    end_pos = sequence_length\n",
    "\n",
    "  # list aminoacids\n",
    "  amino_acids = list(\"ACDEFGHIKLMNPQRSTVWY\")\n",
    "\n",
    "  #initialize the heatmap\n",
    "  heatmap = np.zeros((20, end_pos - start_pos + 1))\n",
    "\n",
    "  # calculate LLRs for each position and aminoacid:\n",
    "  for position in range(start_pos, end_pos +1):\n",
    "    # make masked sequence\n",
    "    i = position -1\n",
    "    masked_seq = protein_sequence[:i] + \"<mask>\" + protein_sequence[i+1:]\n",
    "    protein = ESMProtein(masked_seq)\n",
    "    enc = forge_client.encode(protein)\n",
    "\n",
    "    # get per-position logits\n",
    "    out = forge_client.logits(\n",
    "    enc, LogitsConfig(sequence=True, return_embeddings=True))\n",
    "\n",
    "    # identify the masked-token index in logits:\n",
    "    masked_tok_idx = position\n",
    "    masked_logits = out.logits.sequence[masked_tok_idx]\n",
    "\n",
    "    # get log probs:\n",
    "    log_probs = torch.log(F.softmax(masked_logits, dim=-1))\n",
    "\n",
    "    # wt residue\n",
    "    wt_residue = protein_sequence[position-1]\n",
    "    wt_id = aa_ids[wt_residue]\n",
    "    log_prob_wt = log_probs[wt_id].item()\n",
    "\n",
    "    # LLR for the residues\n",
    "    for i, aa in enumerate(amino_acids):\n",
    "      mt_id = aa_ids[aa]\n",
    "      log_prob_mt = log_probs[mt_id].item()\n",
    "      heatmap[i, position-start_pos] = log_prob_mt - log_prob_wt\n",
    "\n",
    "  # visualize the heatmap\n",
    "  plt.figure(figsize=(15, 5))\n",
    "  plt.imshow(heatmap, cmap=\"viridis\", aspect=\"auto\")\n",
    "  plt.xticks(range(end_pos - start_pos + 1), list(protein_sequence[start_pos-1:end_pos]))\n",
    "  plt.yticks(range(20), amino_acids)\n",
    "  plt.xlabel(\"Position in Protein Sequence\")\n",
    "  plt.ylabel(\"Amino Acid Mutations\")\n",
    "  plt.title(\"Predicted Effects of Mutations on Protein Sequence (LLR)\")\n",
    "  plt.colorbar(label=\"Log Likelihood Ratio (LLR)\")\n",
    "  plt.show()\n",
    "  return heatmap\n"
   ]
  }
 ],
 "metadata": {
  "kernelspec": {
   "display_name": "Python (esm)",
   "language": "python",
   "name": "esm"
  },
  "language_info": {
   "codemirror_mode": {
    "name": "ipython",
    "version": 3
   },
   "file_extension": ".py",
   "mimetype": "text/x-python",
   "name": "python",
   "nbconvert_exporter": "python",
   "pygments_lexer": "ipython3",
   "version": "3.12.12"
  }
 },
 "nbformat": 4,
 "nbformat_minor": 5
}
