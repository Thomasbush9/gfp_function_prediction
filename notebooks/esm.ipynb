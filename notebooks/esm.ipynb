{
 "cells": [
  {
   "cell_type": "markdown",
   "id": "f6f44cee",
   "metadata": {},
   "source": [
    "## Import libraries"
   ]
  },
  {
   "cell_type": "code",
   "execution_count": 1,
   "id": "5a09f071",
   "metadata": {},
   "outputs": [
    {
     "name": "stderr",
     "output_type": "stream",
     "text": [
      "/n/home06/tbush/envs/esm/lib/python3.12/site-packages/esm/pretrained.py:86: FutureWarning: You are using `torch.load` with `weights_only=False` (the current default value), which uses the default pickle module implicitly. It is possible to construct malicious pickle data which will execute arbitrary code during unpickling (See https://github.com/pytorch/pytorch/blob/main/SECURITY.md#untrusted-models for more details). In a future release, the default value for `weights_only` will be flipped to `True`. This limits the functions that could be executed during unpickling. Arbitrary objects will no longer be allowed to be loaded via this mode unless they are explicitly allowlisted by the user via `torch.serialization.add_safe_globals`. We recommend you start setting `weights_only=True` for any use case where you don't have full control of the loaded file. Please open an issue on GitHub for any issues related to this experimental feature.\n",
      "  state_dict = torch.load(\n"
     ]
    }
   ],
   "source": [
    "import os\n",
    "os.environ[\"HF_HUB_OFFLINE\"] = \"1\"\n",
    "os.environ[\"TRANSFORMERS_OFFLINE\"] = \"1\"\n",
    "os.environ[\"HF_HUB_DISABLE_PROGRESS_BARS\"] = \"1\"\n",
    "\n",
    "from esm.models.esmc import ESMC\n",
    "from esm.sdk.api import ESMProtein, LogitsConfig\n",
    "\n",
    "client = ESMC.from_pretrained(\"esmc_600m\").to(\"cuda\")"
   ]
  },
  {
   "cell_type": "code",
   "execution_count": 2,
   "id": "9e8483f8",
   "metadata": {},
   "outputs": [],
   "source": [
    "import sys, os\n",
    "sys.path.append(os.path.abspath(\"..\"))"
   ]
  },
  {
   "cell_type": "code",
   "execution_count": 3,
   "id": "ee876e1e",
   "metadata": {},
   "outputs": [],
   "source": [
    "import pandas as pd\n",
    "import numpy as np\n",
    "from pathlib import Path\n",
    "import re\n",
    "import matplotlib.pyplot as plt\n",
    "import torch "
   ]
  },
  {
   "cell_type": "markdown",
   "id": "fcdd7a70",
   "metadata": {},
   "source": [
    "## Dataset GFP"
   ]
  },
  {
   "cell_type": "code",
   "execution_count": 4,
   "id": "b2f068ac",
   "metadata": {},
   "outputs": [],
   "source": [
    "# we can create the dataset:\n",
    "data_dir = Path(\"/n/home06/tbush/gfp_function_prediction/data/raw_data\")\n",
    "sequence_path =  data_dir / \"P42212.fasta.txt\"\n",
    "original_dataset_path = data_dir / \"amino_acid_genotypes_to_brightness.tsv\"\n",
    "# load the dataset\n",
    "gfp_dataset_original = pd.read_csv(original_dataset_path, sep=\"\\t\")"
   ]
  },
  {
   "cell_type": "code",
   "execution_count": 5,
   "id": "a5990cc3",
   "metadata": {},
   "outputs": [],
   "source": [
    "# load utilities functions \n",
    "from utils.utils import parse_mutation, mutate_seq, get_numb_mut, load_seq_\n",
    "def mutate_sequence(mutation_string, seq, mapping_db_seq):\n",
    "    if pd.isna(mutation_string):\n",
    "        return None\n",
    "    try:\n",
    "        mutations = mutation_string.split(\":\")\n",
    "        for m in mutations:\n",
    "            src, idx, dest = parse_mutation(m)\n",
    "            if idx in mapping_db_seq:\n",
    "                mapped_idx = mapping_db_seq[idx]\n",
    "                mutated_seq = seq[:mapped_idx] + dest + seq[mapped_idx + 1 :]\n",
    "                return mutated_seq\n",
    "    except Exception:\n",
    "        return None\n",
    "    return None\n",
    "\n",
    "    # Calculate the original distribution of num_mut\n",
    "    def get_numb_mut(mut: str) -> int:\n",
    "        if type(mut) == str:\n",
    "            n = len(mut.split(\":\"))\n",
    "        else:\n",
    "            return 0\n",
    "        return n"
   ]
  },
  {
   "cell_type": "code",
   "execution_count": 6,
   "id": "58489d36",
   "metadata": {},
   "outputs": [],
   "source": [
    "seq, mapping = load_seq_(sequence_path)\n",
    "gfp_dataset_original[\"seq_mutated\"] = gfp_dataset_original[\"aaMutations\"].apply(\n",
    "    lambda muts: mutate_sequence(muts, seq=seq, mapping_db_seq=mapping)\n",
    ")\n",
    "gfp_dataset_original[\"num_mut\"] = gfp_dataset_original['aaMutations'].apply(lambda mut: get_numb_mut(mut))"
   ]
  },
  {
   "cell_type": "markdown",
   "id": "9255515a",
   "metadata": {},
   "source": [
    "## LLR Metric Computation"
   ]
  },
  {
   "cell_type": "code",
   "execution_count": 7,
   "id": "3114dac7",
   "metadata": {},
   "outputs": [],
   "source": [
    "# now we load the model + utilities for calculuting the LLR metrics\n",
    "from esm.sdk.api import ESMProtein, LogitsConfig\n",
    "import ipywidgets as widgets\n",
    "from IPython.display import display\n",
    "import torch\n",
    "import torch.nn.functional as F\n",
    "from tqdm import tqdm"
   ]
  },
  {
   "cell_type": "code",
   "execution_count": 8,
   "id": "5f74cf01",
   "metadata": {},
   "outputs": [
    {
     "name": "stderr",
     "output_type": "stream",
     "text": [
      "/n/home06/tbush/envs/esm/lib/python3.12/site-packages/esm/pretrained.py:86: FutureWarning: You are using `torch.load` with `weights_only=False` (the current default value), which uses the default pickle module implicitly. It is possible to construct malicious pickle data which will execute arbitrary code during unpickling (See https://github.com/pytorch/pytorch/blob/main/SECURITY.md#untrusted-models for more details). In a future release, the default value for `weights_only` will be flipped to `True`. This limits the functions that could be executed during unpickling. Arbitrary objects will no longer be allowed to be loaded via this mode unless they are explicitly allowlisted by the user via `torch.serialization.add_safe_globals`. We recommend you start setting `weights_only=True` for any use case where you don't have full control of the loaded file. Please open an issue on GitHub for any issues related to this experimental feature.\n",
      "  state_dict = torch.load(\n"
     ]
    }
   ],
   "source": [
    "amino_acids = list(\"ACDEFGHIKLMNPQRSTVWY\")\n",
    "client = ESMC.from_pretrained(\"esmc_600m\").to(\"cuda\")\n",
    "def token_id(x: str, client) -> int:\n",
    "    enc = client.encode(ESMProtein(x))\n",
    "    return int(enc.sequence[1])  # BOS at 0, your token at 1, EOS at 2\n",
    "aa_ids = {a: token_id(a, client=client) for a in amino_acids}\n",
    "mask_id = token_id(\"<mask>\", client=client)"
   ]
  },
  {
   "cell_type": "code",
   "execution_count": 9,
   "id": "8cfdf8c1",
   "metadata": {},
   "outputs": [],
   "source": [
    "def generate_heatmap(protein_sequence:str, start_pos:int=1, end_pos=None):\n",
    "\n",
    "  # load model and tokenizer\n",
    "  forge_client = ESMC.from_pretrained(\"esmc_600m\").to(\"cuda\")\n",
    "  aa_ids = {'A': 5,\n",
    "            'C': 23,\n",
    "            'D': 13,\n",
    "            'E': 9,\n",
    "            'F': 18,\n",
    "            'G': 6,\n",
    "            'H': 21,\n",
    "            'I': 12,\n",
    "            'K': 15,\n",
    "            'L': 4,\n",
    "            'M': 20,\n",
    "            'N': 17,\n",
    "            'P': 14,\n",
    "            'Q': 16,\n",
    "            'R': 10,\n",
    "            'S': 8,\n",
    "            'T': 11,\n",
    "            'V': 7,\n",
    "            'W': 22,\n",
    "            'Y': 19}\n",
    "\n",
    "  # tokenize the input sequence\n",
    "  protein = ESMProtein(protein_sequence)\n",
    "  input_ids = forge_client.encode(protein)\n",
    "  sequence_length = len(protein_sequence)\n",
    "\n",
    "  if end_pos is None:\n",
    "    end_pos = sequence_length\n",
    "\n",
    "  # list aminoacids\n",
    "  amino_acids = list(\"ACDEFGHIKLMNPQRSTVWY\")\n",
    "\n",
    "  #initialize the heatmap\n",
    "  heatmap = np.zeros((20, end_pos - start_pos + 1))\n",
    "\n",
    "  # calculate LLRs for each position and aminoacid:\n",
    "  for position in range(start_pos, end_pos +1):\n",
    "    # make masked sequence\n",
    "    i = position -1\n",
    "    masked_seq = protein_sequence[:i] + \"<mask>\" + protein_sequence[i+1:]\n",
    "    protein = ESMProtein(masked_seq)\n",
    "    enc = forge_client.encode(protein)\n",
    "\n",
    "    # get per-position logits\n",
    "    out = forge_client.logits(\n",
    "    enc, LogitsConfig(sequence=True, return_embeddings=True))\n",
    "\n",
    "    # identify the masked-token index in logits:\n",
    "    masked_tok_idx = position\n",
    "    masked_logits = out.logits.sequence.squeeze()[masked_tok_idx]\n",
    "\n",
    "    # get log probs:\n",
    "    log_probs = torch.log(F.softmax(masked_logits, dim=-1))\n",
    "\n",
    "    # wt residue\n",
    "    wt_residue = protein_sequence[position-1]\n",
    "    wt_id = aa_ids[wt_residue]\n",
    "    log_prob_wt = log_probs[wt_id].item()\n",
    "\n",
    "    # LLR for the residues\n",
    "    for i, aa in enumerate(amino_acids):\n",
    "      mt_id = aa_ids[aa]\n",
    "      log_prob_mt = log_probs[mt_id].item()\n",
    "      heatmap[i, position-start_pos] = log_prob_mt - log_prob_wt\n",
    "\n",
    "  # visualize the heatmap\n",
    "  plt.figure(figsize=(15, 5))\n",
    "  plt.imshow(heatmap, cmap=\"viridis\", aspect=\"auto\")\n",
    "  plt.xticks(range(end_pos - start_pos + 1), list(protein_sequence[start_pos-1:end_pos]))\n",
    "  plt.yticks(range(20), amino_acids)\n",
    "  plt.xlabel(\"Position in Protein Sequence\")\n",
    "  plt.ylabel(\"Amino Acid Mutations\")\n",
    "  plt.title(\"Predicted Effects of Mutations on Protein Sequence (LLR)\")\n",
    "  plt.colorbar(label=\"Log Likelihood Ratio (LLR)\")\n",
    "  plt.show()\n",
    "  return heatmap\n"
   ]
  },
  {
   "cell_type": "code",
   "execution_count": 10,
   "id": "df646236",
   "metadata": {},
   "outputs": [
    {
     "data": {
      "image/png": "[encoded data removed]",
      "text/plain": [
       "<Figure size 1500x500 with 2 Axes>"
      ]
     },
     "metadata": {},
     "output_type": "display_data"
    }
   ],
   "source": [
    "heatmap = generate_heatmap(seq, end_pos=20)"
   ]
  },
  {
   "cell_type": "markdown",
   "id": "dbfe7adc",
   "metadata": {},
   "source": [
    "### Function to get embedding and P of a mutated sequence:"
   ]
  },
  {
   "cell_type": "code",
   "execution_count": 11,
   "id": "b912dc5e",
   "metadata": {},
   "outputs": [],
   "source": [
    "def get_embedding(sequence:str, client:ESMC):\n",
    "    protein = ESMProtein(sequence)\n",
    "    enc = client.encode(protein)\n",
    "    out = client.logits(\n",
    "        enc, LogitsConfig(sequence=True, return_embeddings=True))\n",
    "    return out.logits.sequence, out.embeddings "
   ]
  },
  {
   "cell_type": "code",
   "execution_count": 12,
   "id": "534e563e",
   "metadata": {},
   "outputs": [],
   "source": [
    "embeddings, logits = get_embedding(seq, client)"
   ]
  },
  {
   "cell_type": "markdown",
   "id": "60b964b0",
   "metadata": {},
   "source": [
    "### Try to predict the function"
   ]
  },
  {
   "cell_type": "code",
   "execution_count": 57,
   "id": "0b8378b6",
   "metadata": {},
   "outputs": [],
   "source": [
    "# funciton to get embeddings in batch:\n",
    "from concurrent.futures import ThreadPoolExecutor, as_completed\n",
    "from typing import Sequence, Tuple, List, Any, Union\n",
    "from tqdm.auto import tqdm\n",
    "from esm.models.esmc import ESMC\n",
    "from esm.sdk.api import ESMProtein, LogitsConfig\n",
    "\n",
    "def embed_sequence(client: ESMC, sequence: Union[str, ESMProtein]):\n",
    "    \"\"\"Return (logits, embeddings) on CPU. Shapes: (1, L, V), (1, L, D).\"\"\"\n",
    "    protein = sequence if isinstance(sequence, ESMProtein) else ESMProtein(sequence)\n",
    "    enc = client.encode(protein)\n",
    "    out = client.logits(enc, LogitsConfig(sequence=True, return_embeddings=True))\n",
    "    # move to CPU to avoid GPU-memory blowup and ensure cat compatibility\n",
    "    return out.logits.sequence.detach().to(\"cpu\"), out.embeddings.detach().to(\"cpu\")\n",
    "\n",
    "# --- batch wrapper (threaded; set max_workers=1 for safest CUDA use) ---\n",
    "def batch_embed(\n",
    "    client: ESMC,\n",
    "    inputs: Sequence[Union[str, ESMProtein]],\n",
    "    max_workers: int = 1,   # GPU models are often not thread-safe; 1 is safest\n",
    ") -> Tuple[List[torch.Tensor], List[torch.Tensor]]:\n",
    "    \"\"\"\n",
    "    Runs embed_sequence for each input. Preserves order, returns lists of tensors.\n",
    "    \"\"\"\n",
    "    n = len(inputs)\n",
    "    logits:     List[Any] = [None] * n\n",
    "    embeddings: List[Any] = [None] * n\n",
    "\n",
    "    with ThreadPoolExecutor(max_workers=max_workers) as ex:\n",
    "        futures = {ex.submit(embed_sequence, client, seq): i for i, seq in enumerate(inputs)}\n",
    "        for fut in tqdm(as_completed(futures), total=n, desc=\"Embedding\"):\n",
    "            i = futures[fut]\n",
    "            try:\n",
    "                logit, emb = fut.result()\n",
    "                logits[i] = logit\n",
    "                embeddings[i] = emb\n",
    "            except Exception as e:\n",
    "                logits[i] = e\n",
    "                embeddings[i] = e\n",
    "\n",
    "    # check for errors\n",
    "    errors = [(i, x) for i, x in enumerate(logits) if isinstance(x, Exception)]\n",
    "    if errors:\n",
    "        msgs = \"\\n\".join([f\"  idx {i}: {err}\" for i, err in errors])\n",
    "        raise RuntimeError(f\"{len(errors)} sequences failed:\\n{msgs}\")\n",
    "\n",
    "    # type narrowing\n",
    "    logits = [t for t in logits if isinstance(t, torch.Tensor)]\n",
    "    embeddings = [t for t in embeddings if isinstance(t, torch.Tensor)]\n",
    "    return logits, embeddings\n",
    "\n",
    "# --- dataset helper ---\n",
    "def create_dataset(df: pd.DataFrame, n: int, client: ESMC):\n",
    "    \"\"\"\n",
    "    Samples n rows, embeds seq_mutated strings.\n",
    "    Returns:\n",
    "      logits_b:     Tensor (N, L, V)\n",
    "      embeddings_b: Tensor (N, L, D)\n",
    "      labels_t:     Tensor (N,)\n",
    "    \"\"\"\n",
    "    sampled_df = df.sample(n)  # add random_state=... for reproducibility\n",
    "    inputs = sampled_df[\"seq_mutated\"].tolist()  # keep as strings\n",
    "    labels = sampled_df[\"Class\"].tolist()\n",
    "\n",
    "    logits_list, emb_list = batch_embed(client, inputs, max_workers=1)\n",
    "\n",
    "    # sanity: all lengths equal\n",
    "    lengths = [t.shape[1] for t in logits_list]\n",
    "    if len(set(lengths)) != 1:\n",
    "        raise ValueError(f\"Sequences have different lengths: {set(lengths)}; \"\n",
    "                         \"cannot concatenate without padding.\")\n",
    "\n",
    "    # concatenate along the batch dimension (dim=0)\n",
    "    logits_b = torch.cat(logits_list, dim=0)       # (N, L, V)\n",
    "    embeddings_b = torch.cat(emb_list, dim=0)      # (N, L, D)\n",
    "    labels_t = torch.as_tensor(labels)\n",
    "\n",
    "    return logits_b, embeddings_b, labels_t\n"
   ]
  },
  {
   "cell_type": "code",
   "execution_count": 58,
   "id": "88d499e6",
   "metadata": {},
   "outputs": [],
   "source": [
    "# create labels for GoF and LoF: 2.6 is the mean, median 3.2\n",
    "gfp_dataset_original[\"Class\"] = gfp_dataset_original[\"medianBrightness\"].apply(lambda x: 0 if x <= 2.6 else 1 )"
   ]
  },
  {
   "cell_type": "code",
   "execution_count": 60,
   "id": "4c6bc71d",
   "metadata": {},
   "outputs": [
    {
     "data": {
      "application/vnd.jupyter.widget-view+json": {
       "model_id": "d1e07104790745bcbbaa90e58cda38c9",
       "version_major": 2,
       "version_minor": 0
      },
      "text/plain": [
       "Embedding:   0%|          | 0/10 [00:00<?, ?it/s]"
      ]
     },
     "metadata": {},
     "output_type": "display_data"
    }
   ],
   "source": [
    "logits, embeddings, labels = create_dataset(gfp_dataset_original, 10, client)"
   ]
  },
  {
   "cell_type": "code",
   "execution_count": 68,
   "id": "14c47a71",
   "metadata": {},
   "outputs": [],
   "source": [
    "# now let's create a dataset with Pytorch + model\n",
    "from torch.utils.data import Dataset, DataLoader\n",
    "import torch.nn as nn\n",
    "\n",
    "class CustomDataset(Dataset):\n",
    "    def __init__(self, df:pd.DataFrame, n:int, client):\n",
    "        logits, embeddings, labels = create_dataset(gfp_dataset_original, n, client)\n",
    "        self.features = embeddings\n",
    "        self.labels = labels\n",
    "    def __len__(self):\n",
    "        return len(self.labels)\n",
    "    def __getitem__(self, index):\n",
    "        embedding = self.features[index]\n",
    "        label = self.labels[index]\n",
    "        return embedding, label"
   ]
  },
  {
   "cell_type": "code",
   "execution_count": 69,
   "id": "5cd1d1a3",
   "metadata": {},
   "outputs": [
    {
     "data": {
      "application/vnd.jupyter.widget-view+json": {
       "model_id": "ccc09025d3b043e1b3009a212559d2e0",
       "version_major": 2,
       "version_minor": 0
      },
      "text/plain": [
       "Embedding:   0%|          | 0/10 [00:00<?, ?it/s]"
      ]
     },
     "metadata": {},
     "output_type": "display_data"
    }
   ],
   "source": [
    "dataset = CustomDataset(gfp_dataset_original, 10, client)"
   ]
  },
  {
   "cell_type": "code",
   "execution_count": null,
   "id": "2d192550",
   "metadata": {},
   "outputs": [],
   "source": []
  }
 ],
 "metadata": {
  "kernelspec": {
   "display_name": "Python (esm)",
   "language": "python",
   "name": "esm"
  },
  "language_info": {
   "codemirror_mode": {
    "name": "ipython",
    "version": 3
   },
   "file_extension": ".py",
   "mimetype": "text/x-python",
   "name": "python",
   "nbconvert_exporter": "python",
   "pygments_lexer": "ipython3",
   "version": "3.12.12"
  }
 },
 "nbformat": 4,
 "nbformat_minor": 5
}
